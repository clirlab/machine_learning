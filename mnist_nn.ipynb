{
 "cells": [
  {
   "cell_type": "code",
   "execution_count": 34,
   "metadata": {},
   "outputs": [],
   "source": [
    "import numpy as np\n",
    "import matplotlib.pyplot as plt\n",
    "import pandas as pd"
   ]
  },
  {
   "cell_type": "markdown",
   "metadata": {},
   "source": [
    "### Dataset   \n",
    "Base de datos de dígitos del 0 al 9 escritos a mano"
   ]
  },
  {
   "cell_type": "markdown",
   "metadata": {},
   "source": [
    "X_train son los datos de entrada  \n",
    "Y_train son las etiquetas "
   ]
  },
  {
   "cell_type": "code",
   "execution_count": 35,
   "metadata": {},
   "outputs": [],
   "source": [
    "data = pd.read_csv('mnist.txt', sep=' ', header=None)   # Read text file\n",
    "del data[0]                                             # Remove first column\n",
    "    \n",
    "data.columns = list(data.columns)[:-1] + ['digitclass'] # Change name of last column to 'digitclass'\n",
    "data = data[:1000]                                      # Take only the first 1000 entries\n",
    "    \n",
    "X = np.array(data.drop('digitclass', axis=1))/255\n",
    "X[0][315] = 0\n",
    "Y = np.array(data['digitclass'])\n",
    "X_train, X_test = X[:900].T, X[900:].T\n",
    "Y_train, Y_test = Y[:900], Y[900:]\n",
    "\n",
    "# datos y etiquetas de entrada\n",
    "\n",
    "x=X_test\n",
    "t=Y_test"
   ]
  },
  {
   "cell_type": "markdown",
   "metadata": {},
   "source": [
    "### Visualizamos algunos datos de entrada"
   ]
  },
  {
   "cell_type": "code",
   "execution_count": 36,
   "metadata": {},
   "outputs": [
    {
     "data": {
      "image/png": "[encoded data removed]",
      "text/plain": [
       "<Figure size 1440x720 with 16 Axes>"
      ]
     },
     "metadata": {
      "needs_background": "light"
     },
     "output_type": "display_data"
    }
   ],
   "source": [
    "fig = plt.figure(figsize= (20, 10))\n",
    "for i in range (0,16):\n",
    "    pixels = X_train[:,i]*255\n",
    "    pixels = pixels.reshape((28, 28))\n",
    "    pixels = np.array(pixels, dtype='uint8')    \n",
    "    # required nrows=4, required ncoms=4, index_location= i+1\n",
    "    ax = fig.add_subplot(3, 8, i+1)\n",
    "    # x_batch[i]: Image object at each iteration\n",
    "    ax.imshow(pixels, cmap='gray')\n",
    "    \n",
    "    "
   ]
  },
  {
   "cell_type": "markdown",
   "metadata": {},
   "source": [
    "### Codificador   \n",
    "Transforma las etiquetas categóricas (representadas con enteros) a \"one-hot-encoding\" "
   ]
  },
  {
   "cell_type": "code",
   "execution_count": 37,
   "metadata": {},
   "outputs": [],
   "source": [
    "def one_hot(y):\n",
    "    one_hot_y = np.zeros((y.size, y.max() + 1))\n",
    "    one_hot_y[np.arange(y.size), y] = 1\n",
    "    one_hot_y = one_hot_y.T\n",
    "    return(one_hot_y)"
   ]
  },
  {
   "cell_type": "markdown",
   "metadata": {},
   "source": [
    "### Función de activación"
   ]
  },
  {
   "cell_type": "markdown",
   "metadata": {},
   "source": [
    "La red está constituida de dos capas: una capa de salida y una capa oculta. Cada capa está definida por una matriz de pesos $w_i$ para $i=1,2$"
   ]
  },
  {
   "cell_type": "markdown",
   "metadata": {},
   "source": [
    "Para la \"función de activación\" $\\sigma(x)$ se elige una sigmoide"
   ]
  },
  {
   "cell_type": "markdown",
   "metadata": {},
   "source": [
    "$\\sigma(x)=\\frac{1}{1+e^{-x}}$  "
   ]
  },
  {
   "cell_type": "code",
   "execution_count": 38,
   "metadata": {},
   "outputs": [],
   "source": [
    "def sigmoid(x):\n",
    "    return (1/(1+np.exp(-x)))"
   ]
  },
  {
   "cell_type": "markdown",
   "metadata": {},
   "source": [
    "La derivada de la función de activación sigmoidal es"
   ]
  },
  {
   "cell_type": "markdown",
   "metadata": {},
   "source": [
    "$\\frac{d\\sigma}{dx}=\\sigma(x)(1-\\sigma(x))$"
   ]
  },
  {
   "cell_type": "code",
   "execution_count": 39,
   "metadata": {},
   "outputs": [],
   "source": [
    "def sigmoid_prime(x):\n",
    "    return sigmoid(x)*(1-sigmoid(x))"
   ]
  },
  {
   "cell_type": "markdown",
   "metadata": {},
   "source": [
    "### Forward propagation o Forward pass"
   ]
  },
  {
   "cell_type": "markdown",
   "metadata": {},
   "source": [
    "El \"forward propagation\" o evaluación hacia adelante de la red es el siguiente:"
   ]
  },
  {
   "cell_type": "markdown",
   "metadata": {},
   "source": [
    "$z_1=w_1x+b_1$ la primera capa recibe $x$, multiplica por la matriz de pesos $w_1$, suma el bias $b_1$ y aplica la función sigmoide para obtener $y_1$ a la salida\n",
    "$y_1=\\sigma(z_1)$   \n",
    "$z_2=w_2y_1+b_2$  \n",
    "$y_s=\\sigma(z_2)$ la segunda capa recibe $y_1$ multiplica por la matriz de pesos $w_2$, suma el bias $b_2$ y aplica la función sigmoide para obtener $y_s$ a la salida"
   ]
  },
  {
   "cell_type": "code",
   "execution_count": 40,
   "metadata": {},
   "outputs": [],
   "source": [
    "def forwardprop(w1, b1, w2, b2, x):\n",
    "    z1 = w1.dot(x) + b1\n",
    "    y1 = sigmoid(z1)\n",
    "    z2 = w2.dot(y1) + b2\n",
    "    ys = sigmoid(z2)\n",
    "    return z1, y1, z2, ys"
   ]
  },
  {
   "cell_type": "markdown",
   "metadata": {},
   "source": [
    "### Funciones de costo MSE o logística"
   ]
  },
  {
   "cell_type": "code",
   "execution_count": 41,
   "metadata": {},
   "outputs": [],
   "source": [
    "# función de costo MSE\n",
    "# E=(1/len(t))*np.sum((ys-one_hot(t))**2)\n",
    "\n",
    "# función de costo logística\n",
    "#T = one_hot(t).T\n",
    "#E = (-1/100)*np.sum(T*(np.log(ys.T)) + (1-T)*np.log(1-ys.T))"
   ]
  },
  {
   "cell_type": "markdown",
   "metadata": {},
   "source": [
    "### Backpropagation para las funciones MSE o logística"
   ]
  },
  {
   "cell_type": "markdown",
   "metadata": {},
   "source": [
    "El \"backward propagation\" o evaluación hacia atrás, se usa para construir el gradiente con respecto a los pesos $\\nabla E_w = (\\frac{dE}{dw_1}, \\frac{dE}{dw_2})$"
   ]
  },
  {
   "cell_type": "markdown",
   "metadata": {},
   "source": [
    "En este caso  \n",
    "$\\frac{dE}{dw_2}= \\frac{dE}{dy_s}\\frac{dy_s}{dw_2}$   \n",
    "$\\frac{dE}{db_2}= \\frac{dE}{dy_s}\\frac{dy_s}{dw_2}$   \n",
    "$\\frac{dE}{dw_1}= \\frac{dE}{dy_s}\\frac{dy_s}{dy_1} \\frac{dy_1}{dw_1}$     \n",
    "$\\frac{dE}{db_1}= \\frac{dE}{dy_s}\\frac{dy_s}{dw_2}$   \n",
    "\n"
   ]
  },
  {
   "cell_type": "code",
   "execution_count": 42,
   "metadata": {},
   "outputs": [],
   "source": [
    "def backprop_log(y1, z1, ys, z2, w1, w2, x, y):\n",
    "    m, n = x.shape\n",
    "    dys = ys - one_hot(y) \n",
    "    dw2 = (1/m)*(dys.dot(y1.T))\n",
    "    db2 = (1/m)*np.sum(dys)\n",
    "    dz1 = w2.T.dot(dys)*sigmoid_prime(z1)\n",
    "    dw1 = (1/m)*dz1.dot(x.T)\n",
    "    db1 = (1/m)*np.sum(dz1)\n",
    "    return dw2, db2, dw1, db1"
   ]
  },
  {
   "cell_type": "code",
   "execution_count": 43,
   "metadata": {},
   "outputs": [],
   "source": [
    "def backprop_ls(y1, z1, ys, z2, w1, w2, x, y):\n",
    "    m, n = x.shape\n",
    "    dE = (1/m)*(ys - one_hot(y)) #dE=(10x100), sigma(z2)= 10x100, y1=(25x100)\n",
    "    dw2_ = (dE*sigmoid_prime(z2))\n",
    "    dw2 = y1.dot(dw2_.T).T #(25x10)\n",
    "    db2 = np.sum(dw2_,1) #(10x1)\n",
    "    \n",
    "    dw1_ = ((dE*sigmoid_prime(z2)).T.dot(w2)*sigmoid_prime(z1).T).T\n",
    "    dw1 = dw1_.dot(x.T)\n",
    "    db1 =np.sum(dw1_,1)    \n",
    "    return dw2, np.reshape(db2,(len(db2),1)), dw1, np.reshape(db1,(len(db1),1))"
   ]
  },
  {
   "cell_type": "markdown",
   "metadata": {},
   "source": [
    "### Optimización con descenso de gradiente"
   ]
  },
  {
   "cell_type": "markdown",
   "metadata": {},
   "source": [
    "La función de costo $E(w_1,w_2)$ que la red minimiza está dada por"
   ]
  },
  {
   "cell_type": "markdown",
   "metadata": {},
   "source": [
    "$E(w_1,w_2)=\\sum_{i=1}^N(y_s-t)^2$ donde $y_s=\\sigma(w_2\\sigma(w_1x+b_1)+b_2)$  "
   ]
  },
  {
   "cell_type": "markdown",
   "metadata": {},
   "source": [
    "Ya que se tiene el gradiente de $E$, i.e. $\\nabla E = (\\frac{dE}{dw_1}, \\frac{dE}{dw_2}, \\frac{dE}{db_1}, \\frac{dE}{db_2})$, podemos usar el método de descenso de gradiente para encontrar el mínimo. \n",
    "\n",
    "Esto es, construimos una sucesión de valores $w^k$ y $b^k$ para $k=1,2,3, \\ldots$ usando la regla  \n",
    "\n",
    "$w^{k+1}=w^k-\\alpha \\nabla E(w^k)$ donde $w=(w_1,w_2)$  \n",
    "$b^{k+1}=b^k-\\alpha \\nabla E(b^k)$ donde $b=(b_1,b_2)$  \n"
   ]
  },
  {
   "cell_type": "markdown",
   "metadata": {},
   "source": [
    "Visto de otra forma  \n",
    "\n",
    "$w_1^{k+1}=w_1^{k} - \\alpha \\frac{dE(w^k)}{dw_1}$  \n",
    "$w_2^{k+1}=w_2^{k} - \\alpha \\frac{dE(w^k)}{dw_2}$  \n",
    "$b_1^{k+1}=b_1^{k} - \\alpha \\frac{dE(b^k)}{db_1}$  \n",
    "$b_2^{k+1}=b_2^{k} - \\alpha \\frac{dE(b^k)}{db_2}$  \n",
    "\n",
    "para $k=1,2,3, \\ldots$ "
   ]
  },
  {
   "cell_type": "markdown",
   "metadata": {},
   "source": [
    "En optimización, $\\alpha$ es conocido como el \"paso\" en la dirección de búsqueda pero en el contexto de redes neuronales se le conoce como el \"learning rate\" o tasa de aprendizaje.  \n",
    "Por otro lado, al método para construir el gradiente usando la regla de la cadena se conoce como \"backpropagation\".  \n",
    "Cada iteración $k$ es conocida como épocas"
   ]
  },
  {
   "cell_type": "code",
   "execution_count": 44,
   "metadata": {},
   "outputs": [],
   "source": [
    "# datos y etiquetas de entrada\n",
    "\n",
    "x=X_train\n",
    "t=Y_train\n",
    "\n",
    "# se inicializan los pesos y bias de forma aleatoria\n",
    "w1 = np.random.rand(25, 784)-0.5\n",
    "w2 = np.random.rand(10, 25)-0.5\n",
    "b1 = np.random.rand(25,1)-0.5\n",
    "b2 = np.random.rand(10,1)-0.5\n",
    "        \n",
    "# se elige el \"learning rate\"    \n",
    "alpha=0.4\n",
    "\n",
    "#se elige el número de épocas\n",
    "EPOCHS=10000\n",
    "loss=[]\n",
    "\n",
    "for i in range(EPOCHS):\n",
    "    z1, y1, z2, ys = forwardprop(w1, b1, w2, b2, x) #forward pass\n",
    "    dw2, db2, dw1, db1 = backprop_ls(y1, z1, ys, z2, w1, w2, x, t) #backward pass\n",
    "    \n",
    "    # actualizamos pesos y bias con descenso de gradiente\n",
    "    w2=w2-alpha*dw2\n",
    "    w1=w1-alpha*dw1\n",
    "    b2=b2-alpha*db2\n",
    "    b1=b1-alpha*db1\n",
    "   \n",
    "    # función de costo logística\n",
    "    #T = one_hot(t).T\n",
    "    #E = (-1/100)*np.sum(T*(np.log(ys.T)) + (1-T)*np.log(1-ys.T))\n",
    "    \n",
    "    #función de costo MSE\n",
    "    E=(1/len(t))*np.sum((ys-one_hot(t))**2)\n",
    "    \n",
    "    loss.append(E)\n",
    "    #print(loss[i])"
   ]
  },
  {
   "cell_type": "code",
   "execution_count": 45,
   "metadata": {},
   "outputs": [
    {
     "data": {
      "image/png": "[encoded data removed]",
      "text/plain": [
       "<Figure size 432x288 with 1 Axes>"
      ]
     },
     "metadata": {
      "needs_background": "light"
     },
     "output_type": "display_data"
    }
   ],
   "source": [
    "plt.plot(loss)\n",
    "plt.yscale('log')\n",
    "plt.title('gráfica del valor de la función de perdida')\n",
    "plt.xlabel('épocas')\n",
    "plt.ylabel('loss')\n",
    "plt.grid()"
   ]
  },
  {
   "cell_type": "markdown",
   "metadata": {},
   "source": [
    "### Predicción sobre el conjunto de prueba"
   ]
  },
  {
   "cell_type": "markdown",
   "metadata": {},
   "source": [
    "Una vez que los pesos $w$ han sido calculados (la red ha sido entrenada), para hacer la predicción solo es necesario hacer el forwar pass en un dato nuevo $x$"
   ]
  },
  {
   "cell_type": "code",
   "execution_count": 46,
   "metadata": {},
   "outputs": [],
   "source": [
    "# la siguiente función calcula la exactitud de la red\n",
    "def calculateAccuracy(ys, Y):\n",
    "    m,n = Y.shape\n",
    "    c=0\n",
    "    for i in range(n):\n",
    "        if ((ys[:,i]==Y[:,i]).all()):\n",
    "            c+=1      \n",
    "    return (c/n)*100"
   ]
  },
  {
   "cell_type": "code",
   "execution_count": 47,
   "metadata": {},
   "outputs": [
    {
     "name": "stdout",
     "output_type": "stream",
     "text": [
      "Accuracy: 80.00 \n"
     ]
    }
   ],
   "source": [
    "# X_test, Y_test es el conjunto de 100 datos (que la red nunca ha visto) sobre los que se evaluará la red\n",
    "z1, y1, z2, ys = forwardprop(w1, b1, w2, b2, X_test)\n",
    "\n",
    "# como ys es continua es necesario hacer umbralización \n",
    "ys[np.where(ys>0.5)]=1\n",
    "ys[np.where(ys<=0.5)]=0\n",
    "acc=calculateAccuracy(ys, one_hot(Y_test))\n",
    "print('Accuracy: %2.2f ' % acc) "
   ]
  },
  {
   "cell_type": "code",
   "execution_count": 53,
   "metadata": {},
   "outputs": [
    {
     "data": {
      "text/plain": [
       "array([[0.],\n",
       "       [0.],\n",
       "       [0.],\n",
       "       [0.],\n",
       "       [0.],\n",
       "       [0.],\n",
       "       [1.]])"
      ]
     },
     "execution_count": 53,
     "metadata": {},
     "output_type": "execute_result"
    }
   ],
   "source": [
    "one_hot(Y_test[i])"
   ]
  },
  {
   "cell_type": "markdown",
   "metadata": {},
   "source": [
    "### Visualizamos cuales fueron los errores de la red neuronal"
   ]
  },
  {
   "cell_type": "code",
   "execution_count": 73,
   "metadata": {},
   "outputs": [
    {
     "name": "stdout",
     "output_type": "stream",
     "text": [
      "[0. 0. 0. 0. 0. 0. 1. 0. 0. 0.]\n",
      "[0. 0. 0. 0. 0. 0. 1. 0. 0. 0.]\n",
      "[0. 0. 0. 0. 0. 0. 1. 0. 0. 0.]\n",
      "[0. 0. 0. 0. 0. 0. 1. 0. 0. 0.]\n",
      "[0. 0. 0. 0. 0. 0. 1. 0. 0. 0.]\n",
      "[0. 0. 0. 0. 0. 0. 1. 0. 0. 0.]\n",
      "[0. 0. 0. 0. 0. 0. 1. 0. 0. 0.]\n",
      "[0. 0. 0. 0. 0. 0. 1. 0. 0. 0.]\n",
      "[0. 0. 0. 0. 0. 0. 1. 0. 0. 0.]\n",
      "[0. 0. 0. 0. 0. 0. 1. 0. 0. 0.]\n"
     ]
    },
    {
     "data": {
      "image/png": "[encoded data removed]",
      "text/plain": [
       "<Figure size 2160x720 with 10 Axes>"
      ]
     },
     "metadata": {
      "needs_background": "light"
     },
     "output_type": "display_data"
    }
   ],
   "source": [
    "fig = plt.figure(figsize= (30, 10))\n",
    "c=0\n",
    "for i in range (0,X_test.shape[1]):\n",
    "    if one_hot(Y_test[i]).all()!= ys[:,i].all():\n",
    "        pixels=(X_test[:,i]*255).reshape((28, 28))\n",
    "        pixels = np.array(pixels, dtype='uint8')    \n",
    "        ax = fig.add_subplot(3, 8, c+1)\n",
    "        ax.imshow(pixels, cmap='gray')\n",
    "        print(ys[:,1])\n",
    "        c+=1"
   ]
  },
  {
   "cell_type": "code",
   "execution_count": null,
   "metadata": {},
   "outputs": [],
   "source": []
  }
 ],
 "metadata": {
  "kernelspec": {
   "display_name": "Python 3 (ipykernel)",
   "language": "python",
   "name": "python3"
  },
  "language_info": {
   "codemirror_mode": {
    "name": "ipython",
    "version": 3
   },
   "file_extension": ".py",
   "mimetype": "text/x-python",
   "name": "python",
   "nbconvert_exporter": "python",
   "pygments_lexer": "ipython3",
   "version": "3.9.1"
  }
 },
 "nbformat": 4,
 "nbformat_minor": 4
}
