{
  "nbformat": 4,
  "nbformat_minor": 0,
  "metadata": {
    "colab": {
      "provenance": []
    },
    "kernelspec": {
      "name": "python3",
      "display_name": "Python 3"
    },
    "language_info": {
      "name": "python"
    }
  },
  "cells": [
    {
      "cell_type": "code",
      "execution_count": 1,
      "metadata": {
        "id": "ZLe5Mt2MalHw"
      },
      "outputs": [],
      "source": [
        "import torch\n",
        "import torch.nn as nn\n",
        "import torch.optim as optim\n",
        "import matplotlib.pyplot as plt\n",
        "import pandas as pd"
      ]
    },
    {
      "cell_type": "code",
      "source": [
        "torch.manual_seed(1)\n",
        "data = pd.read_csv(\"cancer.csv\") #cargamos el archivo con los datos\n",
        "ejem = 450"
      ],
      "metadata": {
        "id": "I6xFNi17as2a"
      },
      "execution_count": 3,
      "outputs": []
    },
    {
      "cell_type": "code",
      "source": [
        "x=torch.tensor(data.iloc[:ejem,:9].values,dtype=torch.float32)\n",
        "t=torch.tensor(data.iloc[0:ejem,9:].values,dtype=torch.float32)\n",
        "x_test=torch.tensor(data.iloc[ejem:,:9].values,dtype=torch.float32)\n",
        "t_test=torch.tensor(data.iloc[ejem:,9:].values,dtype=torch.float32)"
      ],
      "metadata": {
        "id": "jYAz1Ww9ayxL"
      },
      "execution_count": 4,
      "outputs": []
    },
    {
      "cell_type": "code",
      "source": [
        "input_units = 9\n",
        "hidden_units= 5\n",
        "output_units = 1\n",
        "epocas=2000"
      ],
      "metadata": {
        "id": "27wAZF4ba3VG"
      },
      "execution_count": 5,
      "outputs": []
    },
    {
      "cell_type": "code",
      "source": [
        "active=['sigmoid','tanh','leaky', 'relu']\n",
        "accu=[]\n",
        "\n",
        "for k in active:\n",
        "    if k=='sigmoid':\n",
        "        act = nn.Sigmoid()\n",
        "    if k=='tanh':\n",
        "        act = nn.Tanh()\n",
        "    if k=='leaky':\n",
        "        act = nn.LeakyReLU()\n",
        "    if k=='relu':\n",
        "        act = nn.ReLU()\n",
        "            \n",
        "    model = nn.Sequential(nn.Linear(input_units, hidden_units), \\\n",
        "                          act, \\\n",
        "                          nn.Linear(hidden_units, output_units), \\\n",
        "                          act, )    \n",
        "        \n",
        "    optimizer = optim.Adam(model.parameters(), lr=0.01)\n",
        "    loss_funct = nn.MSELoss()   \n",
        "    losses = []\n",
        "    \n",
        "    for i in range(epocas):\n",
        "        y_pred = model(x)\n",
        "        loss = loss_funct(y_pred, t)\n",
        "        losses.append(loss.item())\n",
        "        optimizer.zero_grad()\n",
        "        loss.backward()\n",
        "    \n",
        "        optimizer.step()\n",
        "        \n",
        "        if i%500 == 0:\n",
        "            print(i, loss.item())\n",
        "    \n",
        "    #print(model[0].weigth)\n",
        "    plt.plot(range(0,epocas), losses,label=k)\n",
        "    #evaluamos la red\n",
        "\n",
        "    t_pred = model(x_test)\n",
        "\n",
        "    t_pred[t_pred>=0.5]=1\n",
        "    t_pred[t_pred<0.5]=0\n",
        "\n",
        "    evalu=torch.eq(t_test,t_pred)\n",
        "    positive = torch.count_nonzero(evalu == True)\n",
        "    negative = torch.count_nonzero(evalu == False)\n",
        "    #print(positive,'\\n')\n",
        "    accc=100*positive/(positive+negative)\n",
        "    #print(\"Accuracy : \", 100*positive/(positive+negative))\n",
        "    plt.legend()\n",
        "    accu.append(accc)"
      ],
      "metadata": {
        "colab": {
          "base_uri": "https://localhost:8080/",
          "height": 708
        },
        "id": "Q0QRql2Ia35U",
        "outputId": "4e94a318-7965-4f37-b241-f45e4599c723"
      },
      "execution_count": 18,
      "outputs": [
        {
          "output_type": "stream",
          "name": "stdout",
          "text": [
            "0 0.2446330040693283\n",
            "500 0.023964717984199524\n",
            "1000 0.015331863425672054\n",
            "1500 0.01233863364905119\n",
            "0 0.37084463238716125\n",
            "500 0.027801331132650375\n",
            "1000 0.025304622948169708\n",
            "1500 0.024477986618876457\n",
            "0 0.434073269367218\n",
            "500 0.033010441809892654\n",
            "1000 0.032044269144535065\n",
            "1500 0.03188495337963104\n",
            "0 0.4042662978172302\n",
            "500 0.02295822650194168\n",
            "1000 0.02238425612449646\n",
            "1500 0.02233949303627014\n"
          ]
        },
        {
          "output_type": "display_data",
          "data": {
            "text/plain": [
              "<Figure size 640x480 with 1 Axes>"
            ],
            "image/png": "[encoded data removed]"
          },
          "metadata": {}
        }
      ]
    },
    {
      "cell_type": "code",
      "source": [
        "\n",
        "print('Precision de cada metodo \\n' ,accu)\n"
      ],
      "metadata": {
        "colab": {
          "base_uri": "https://localhost:8080/"
        },
        "id": "EfFBjNSpbBDQ",
        "outputId": "eea27762-5877-43b4-d68a-deb5be0de870"
      },
      "execution_count": 16,
      "outputs": [
        {
          "output_type": "stream",
          "name": "stdout",
          "text": [
            "Precision de cada metodo \n",
            " [tensor(96.1207), tensor(95.2586), tensor(98.7069), tensor(98.7069)]\n"
          ]
        }
      ]
    }
  ]
}