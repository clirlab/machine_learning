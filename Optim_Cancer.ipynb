{
  "nbformat": 4,
  "nbformat_minor": 0,
  "metadata": {
    "colab": {
      "provenance": []
    },
    "kernelspec": {
      "name": "python3",
      "display_name": "Python 3"
    },
    "language_info": {
      "name": "python"
    }
  },
  "cells": [
    {
      "cell_type": "code",
      "execution_count": 1,
      "metadata": {
        "id": "ooJX0GIIc-u1"
      },
      "outputs": [],
      "source": [
        "import torch\n",
        "import torch.nn as nn\n",
        "import torch.optim as optim\n",
        "import matplotlib.pyplot as plt\n",
        "import pandas as pd"
      ]
    },
    {
      "cell_type": "code",
      "source": [
        "torch.manual_seed(0)\n",
        "data = pd.read_csv(\"cancer.csv\") #cargamos el archivo con los datos"
      ],
      "metadata": {
        "id": "4QlgcKJudHri"
      },
      "execution_count": 2,
      "outputs": []
    },
    {
      "cell_type": "code",
      "source": [
        "ejem = 450\n",
        "\n",
        "x=torch.tensor(data.iloc[:ejem,:9].values,dtype=torch.float32)\n",
        "t=torch.tensor(data.iloc[0:ejem,9:].values,dtype=torch.float32)\n",
        "x_test=torch.tensor(data.iloc[ejem:,:9].values,dtype=torch.float32)\n",
        "t_test=torch.tensor(data.iloc[ejem:,9:].values,dtype=torch.float32)"
      ],
      "metadata": {
        "id": "_63xYg1LdMlO"
      },
      "execution_count": 3,
      "outputs": []
    },
    {
      "cell_type": "code",
      "source": [
        "input_units = 9\n",
        "hidden_units= 5\n",
        "output_units = 1\n",
        "lear=0.01\n",
        "epocas=20000"
      ],
      "metadata": {
        "id": "qLe3FkiNdPSm"
      },
      "execution_count": 15,
      "outputs": []
    },
    {
      "cell_type": "code",
      "source": [
        "optims=['sgd','adam','adagrad']\n",
        "\n",
        "for k in optims:\n",
        "    \n",
        "    model = nn.Sequential(nn.Linear(input_units, hidden_units), \\\n",
        "            nn.Sigmoid(), \\\n",
        "            nn.Linear(hidden_units, output_units), \\\n",
        "            nn.Sigmoid(), )\n",
        "        \n",
        "    if k=='adam':\n",
        "        optimizer = optim.Adam(model.parameters(), lr=lear)\n",
        "    if k=='sgd':\n",
        "        optimizer = optim.SGD(model.parameters(), lr=lear)\n",
        "    if k=='adagrad':\n",
        "        optimizer = optim.Adagrad(model.parameters(), lr=lear)\n",
        "\n",
        "\n",
        "    loss_funct = nn.MSELoss()   \n",
        "    losses = []\n",
        "    \n",
        "    for i in range(epocas):\n",
        "        y_pred = model(x)\n",
        "        loss = loss_funct(y_pred, t)\n",
        "        losses.append(loss.item())\n",
        "        optimizer.zero_grad()\n",
        "        loss.backward()\n",
        "    \n",
        "        optimizer.step()\n",
        "        \n",
        "        if i%5000 == 0:\n",
        "            print(i, loss.item())\n",
        "    \n",
        "    #print(model[0].weigth)\n",
        "    plt.plot(range(0,epocas), losses,label=k)\n",
        "plt.legend()\n"
      ],
      "metadata": {
        "id": "eDUxTMYxdRbf"
      },
      "execution_count": null,
      "outputs": []
    }
  ]
}