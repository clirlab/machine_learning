{
 "cells": [
  {
   "cell_type": "code",
   "execution_count": 1,
   "metadata": {
    "id": "_VJzPJnPhtDy"
   },
   "outputs": [],
   "source": [
    "import matplotlib.pyplot as plt\n",
    "import pandas as pd\n",
    "import torch\n",
    "import torch.nn as nn\n",
    "import torch.optim as opt\n",
    "import time"
   ]
  },
  {
   "cell_type": "code",
   "execution_count": 2,
   "metadata": {
    "colab": {
     "base_uri": "https://localhost:8080/"
    },
    "id": "56g3C8lwi2ay",
    "outputId": "1e9d6c14-8ff9-4e07-c412-5239f46e7b45"
   },
   "outputs": [
    {
     "name": "stdout",
     "output_type": "stream",
     "text": [
      "False\n"
     ]
    }
   ],
   "source": [
    "print(torch.cuda.is_available())\n",
    "device = 'cuda' if torch.cuda.is_available() else 'cpu'\n",
    "device ='cpu'"
   ]
  },
  {
   "cell_type": "code",
   "execution_count": 3,
   "metadata": {
    "colab": {
     "base_uri": "https://localhost:8080/",
     "height": 206
    },
    "id": "mi_SOsM-npJY",
    "outputId": "e2fe15e6-ad47-4c5b-fdad-3207c9a358e7"
   },
   "outputs": [
    {
     "data": {
      "text/html": [
       "<div>\n",
       "<style scoped>\n",
       "    .dataframe tbody tr th:only-of-type {\n",
       "        vertical-align: middle;\n",
       "    }\n",
       "\n",
       "    .dataframe tbody tr th {\n",
       "        vertical-align: top;\n",
       "    }\n",
       "\n",
       "    .dataframe thead th {\n",
       "        text-align: right;\n",
       "    }\n",
       "</style>\n",
       "<table border=\"1\" class=\"dataframe\">\n",
       "  <thead>\n",
       "    <tr style=\"text-align: right;\">\n",
       "      <th></th>\n",
       "      <th>5</th>\n",
       "      <th>1</th>\n",
       "      <th>1.1</th>\n",
       "      <th>1.2</th>\n",
       "      <th>2</th>\n",
       "      <th>1.3</th>\n",
       "      <th>3</th>\n",
       "      <th>1.4</th>\n",
       "      <th>1.5</th>\n",
       "      <th>0</th>\n",
       "    </tr>\n",
       "  </thead>\n",
       "  <tbody>\n",
       "    <tr>\n",
       "      <th>0</th>\n",
       "      <td>5</td>\n",
       "      <td>4</td>\n",
       "      <td>4</td>\n",
       "      <td>5</td>\n",
       "      <td>7</td>\n",
       "      <td>10</td>\n",
       "      <td>3</td>\n",
       "      <td>2</td>\n",
       "      <td>1</td>\n",
       "      <td>0</td>\n",
       "    </tr>\n",
       "    <tr>\n",
       "      <th>1</th>\n",
       "      <td>3</td>\n",
       "      <td>1</td>\n",
       "      <td>1</td>\n",
       "      <td>1</td>\n",
       "      <td>2</td>\n",
       "      <td>2</td>\n",
       "      <td>3</td>\n",
       "      <td>1</td>\n",
       "      <td>1</td>\n",
       "      <td>0</td>\n",
       "    </tr>\n",
       "    <tr>\n",
       "      <th>2</th>\n",
       "      <td>6</td>\n",
       "      <td>8</td>\n",
       "      <td>8</td>\n",
       "      <td>1</td>\n",
       "      <td>3</td>\n",
       "      <td>4</td>\n",
       "      <td>3</td>\n",
       "      <td>7</td>\n",
       "      <td>1</td>\n",
       "      <td>0</td>\n",
       "    </tr>\n",
       "    <tr>\n",
       "      <th>3</th>\n",
       "      <td>4</td>\n",
       "      <td>1</td>\n",
       "      <td>1</td>\n",
       "      <td>3</td>\n",
       "      <td>2</td>\n",
       "      <td>1</td>\n",
       "      <td>3</td>\n",
       "      <td>1</td>\n",
       "      <td>1</td>\n",
       "      <td>0</td>\n",
       "    </tr>\n",
       "    <tr>\n",
       "      <th>4</th>\n",
       "      <td>8</td>\n",
       "      <td>10</td>\n",
       "      <td>10</td>\n",
       "      <td>8</td>\n",
       "      <td>7</td>\n",
       "      <td>10</td>\n",
       "      <td>9</td>\n",
       "      <td>7</td>\n",
       "      <td>1</td>\n",
       "      <td>1</td>\n",
       "    </tr>\n",
       "  </tbody>\n",
       "</table>\n",
       "</div>"
      ],
      "text/plain": [
       "   5   1  1.1  1.2  2  1.3  3  1.4  1.5  0\n",
       "0  5   4    4    5  7   10  3    2    1  0\n",
       "1  3   1    1    1  2    2  3    1    1  0\n",
       "2  6   8    8    1  3    4  3    7    1  0\n",
       "3  4   1    1    3  2    1  3    1    1  0\n",
       "4  8  10   10    8  7   10  9    7    1  1"
      ]
     },
     "execution_count": 3,
     "metadata": {},
     "output_type": "execute_result"
    }
   ],
   "source": [
    "data = pd.read_csv('cancer.csv')\n",
    "data.head()"
   ]
  },
  {
   "cell_type": "code",
   "execution_count": 4,
   "metadata": {
    "id": "LtUztTEzoaqO"
   },
   "outputs": [],
   "source": [
    "x=torch.tensor(data.iloc[:500,:9].values, dtype=torch.float32)\n",
    "t=torch.tensor(data.iloc[:500,9:].values, dtype=torch.float32)\n",
    "x_test=torch.tensor(data.iloc[500:,:9].values, dtype=torch.float32)\n",
    "t_test=torch.tensor(data.iloc[500:,9:].values, dtype=torch.float32)"
   ]
  },
  {
   "cell_type": "code",
   "execution_count": 5,
   "metadata": {
    "id": "do-OhI3BolBu"
   },
   "outputs": [],
   "source": [
    "input_units=9\n",
    "hidden_units=500\n",
    "output_units=1\n",
    "epochs = 1000"
   ]
  },
  {
   "cell_type": "code",
   "execution_count": 6,
   "metadata": {
    "colab": {
     "base_uri": "https://localhost:8080/"
    },
    "id": "DuBIxtdNp8pl",
    "outputId": "73fdadf4-268e-40c2-ca8c-86de68558864"
   },
   "outputs": [],
   "source": [
    "class Net(nn.Module):\n",
    "    def __init__(self):\n",
    "        super(Net, self).__init__()\n",
    "        self.lin1 = nn.Linear(9,500)\n",
    "        self.act = nn.Sigmoid()\n",
    "        self.lin2 = nn.Linear(500,1)\n",
    "\n",
    "    def forward(self, x):\n",
    "        x = self.lin1(x)\n",
    "        x = self.act(x)\n",
    "        x = self.lin2(x)\n",
    "        x = self.act(x)\n",
    "\n",
    "        return x"
   ]
  },
  {
   "cell_type": "code",
   "execution_count": 7,
   "metadata": {
    "id": "nG8KUTl0rA6x"
   },
   "outputs": [],
   "source": [
    "model = Net()\n",
    "loss_funct=nn.MSELoss()\n",
    "optimizer= opt.Adam(model.parameters(), lr=0.01)"
   ]
  },
  {
   "cell_type": "code",
   "execution_count": 8,
   "metadata": {
    "id": "CqFm3vF7jK31"
   },
   "outputs": [],
   "source": [
    "model = model.to(device)\n",
    "x = x.to(device)\n",
    "t = t.to(device)\n",
    "x_test = x_test.to(device)\n",
    "t_test = t_test.to(device)"
   ]
  },
  {
   "cell_type": "code",
   "execution_count": 9,
   "metadata": {},
   "outputs": [],
   "source": [
    "def pred_curv(x_test):\n",
    "    t_pred = model(x_test)\n",
    "    t_pred[t_pred>=0.5]=1\n",
    "    t_pred[t_pred<0.5]=0\n",
    "    evalu=torch.eq(t_test,t_pred)\n",
    "    positive = torch.count_nonzero(evalu == True)\n",
    "    negative = torch.count_nonzero(evalu == False)\n",
    "\n",
    "    return 100*positive/(positive+negative)"
   ]
  },
  {
   "cell_type": "code",
   "execution_count": 10,
   "metadata": {
    "colab": {
     "base_uri": "https://localhost:8080/"
    },
    "id": "QVQ1tgF7rv1x",
    "outputId": "785ccceb-722a-4907-d8dd-ba0d7bc67eef"
   },
   "outputs": [
    {
     "name": "stdout",
     "output_type": "stream",
     "text": [
      "0 0.23807428777217865\n",
      "10 0.04195329174399376\n",
      "20 0.031832825392484665\n",
      "30 0.027070609852671623\n",
      "40 0.02594441920518875\n",
      "50 0.024519894272089005\n",
      "60 0.023808754980564117\n",
      "70 0.02315874770283699\n",
      "80 0.02259283885359764\n",
      "90 0.022080613300204277\n",
      "100 0.021605277433991432\n",
      "110 0.021157847717404366\n",
      "120 0.020729534327983856\n",
      "130 0.02030935510993004\n",
      "140 0.019886251538991928\n",
      "150 0.019452234730124474\n",
      "160 0.01899563893675804\n",
      "170 0.018504703417420387\n",
      "180 0.017976365983486176\n",
      "190 0.017410077154636383\n",
      "200 0.01681513339281082\n",
      "210 0.01619241200387478\n",
      "220 0.015534124337136745\n",
      "230 0.014834116213023663\n",
      "240 0.01410584431141615\n",
      "250 0.013372556306421757\n",
      "260 0.012653835117816925\n",
      "270 0.0119647067040205\n",
      "280 0.011313533410429955\n",
      "290 0.010709269903600216\n",
      "300 0.010158690623939037\n",
      "310 0.009664865210652351\n",
      "320 0.00922754779458046\n",
      "330 0.008842883631587029\n",
      "340 0.008505226112902164\n",
      "350 0.008207960054278374\n",
      "360 0.007944155484437943\n",
      "370 0.007707132492214441\n",
      "380 0.0074900733307003975\n",
      "390 0.007284380495548248\n",
      "400 0.007082546129822731\n",
      "410 0.006883815862238407\n",
      "420 0.006689276546239853\n",
      "430 0.006497572176158428\n",
      "440 0.006307319737970829\n",
      "450 0.0061152298003435135\n",
      "460 0.005910104606300592\n",
      "470 0.005669992417097092\n",
      "480 0.005369189660996199\n",
      "490 0.004986037500202656\n",
      "500 0.00457390071824193\n",
      "510 0.004168106708675623\n",
      "520 0.003738448489457369\n",
      "530 0.0033129595685750246\n",
      "540 0.002926003420725465\n",
      "550 0.002585509791970253\n",
      "560 0.002291087293997407\n",
      "570 0.0020389698911458254\n",
      "580 0.0018230655696243048\n",
      "590 0.0016378844156861305\n",
      "600 0.0014786217361688614\n",
      "610 0.0013410409446805716\n",
      "620 0.0012221732176840305\n",
      "630 0.001119132968597114\n",
      "640 0.0010293014347553253\n",
      "650 0.000950504734646529\n",
      "660 0.0008810069994069636\n",
      "670 0.0008193886023946106\n",
      "680 0.0007644775323569775\n",
      "690 0.0007153057376854122\n",
      "700 0.0006710701854899526\n",
      "710 0.0006311050383374095\n",
      "720 0.0005948534235358238\n",
      "730 0.0005618487484753132\n",
      "740 0.0005316974711604416\n",
      "750 0.0005040647811256349\n",
      "760 0.0004786660720128566\n",
      "770 0.0004552518657874316\n",
      "780 0.0004336093261372298\n",
      "790 0.00041355282883159816\n",
      "800 0.0003949219244532287\n",
      "810 0.0003775794757530093\n",
      "820 0.00036140691372565925\n",
      "830 0.0003463022003415972\n",
      "840 0.00033217540476471186\n",
      "850 0.0003189429990015924\n",
      "860 0.0003065310593228787\n",
      "870 0.0002948711335193366\n",
      "880 0.0002839013177435845\n",
      "890 0.00027356669306755066\n",
      "900 0.00026381760835647583\n",
      "910 0.0002546091563999653\n",
      "920 0.0002459003881085664\n",
      "930 0.0002376538177486509\n",
      "940 0.0002298363106092438\n",
      "950 0.00022241583792492747\n",
      "960 0.00021536489657592028\n",
      "970 0.00020865800615865737\n",
      "980 0.00020227183995302767\n",
      "990 0.00019618510850705206\n"
     ]
    }
   ],
   "source": [
    "start_time = time.time()\n",
    "losses=[]\n",
    "pc=[]\n",
    "\n",
    "\n",
    "PATH = \"model.pt\"\n",
    "\n",
    "\n",
    "\n",
    "for i in range (epochs):\n",
    "  y_pred=model(x)\n",
    "  loss = loss_funct(y_pred,t)\n",
    "  losses.append(loss.item())\n",
    "  optimizer.zero_grad()\n",
    "  loss.backward()\n",
    "\n",
    "  optimizer.step()\n",
    "  if i%10 ==0:\n",
    "    print(i,loss.item())\n",
    "    pc.append(pred_curv(x_test))\n",
    "    \n",
    "    torch.save({\n",
    "            'epoch': i,\n",
    "            'model_state_dict': model.state_dict(),\n",
    "            'optimizer_state_dict': optimizer.state_dict(),\n",
    "            'loss': loss,\n",
    "            }, PATH)\n"
   ]
  },
  {
   "cell_type": "code",
   "execution_count": 11,
   "metadata": {
    "colab": {
     "base_uri": "https://localhost:8080/",
     "height": 447
    },
    "id": "ytHO5zeEtpN5",
    "outputId": "d56f5608-cf13-49c5-8363-eec151239c96"
   },
   "outputs": [
    {
     "data": {
      "text/plain": [
       "[<matplotlib.lines.Line2D at 0x7fb3c623dd80>]"
      ]
     },
     "execution_count": 11,
     "metadata": {},
     "output_type": "execute_result"
    },
    {
     "data": {
      "image/png": "[encoded data removed]",
      "text/plain": [
       "<Figure size 640x480 with 1 Axes>"
      ]
     },
     "metadata": {},
     "output_type": "display_data"
    }
   ],
   "source": [
    "plt.plot(range(0,epochs),losses)\n"
   ]
  },
  {
   "cell_type": "code",
   "execution_count": 12,
   "metadata": {},
   "outputs": [
    {
     "data": {
      "text/plain": [
       "[<matplotlib.lines.Line2D at 0x7fb3c5a4fb20>]"
      ]
     },
     "execution_count": 12,
     "metadata": {},
     "output_type": "execute_result"
    },
    {
     "data": {
      "image/png": "[encoded data removed]",
      "text/plain": [
       "<Figure size 640x480 with 1 Axes>"
      ]
     },
     "metadata": {},
     "output_type": "display_data"
    }
   ],
   "source": [
    "plt.plot(pc)"
   ]
  },
  {
   "cell_type": "code",
   "execution_count": 13,
   "metadata": {
    "colab": {
     "base_uri": "https://localhost:8080/"
    },
    "id": "RwZjOp_yjs3S",
    "outputId": "10957e86-f1c2-43ba-d457-37c19ec9b02a"
   },
   "outputs": [
    {
     "name": "stdout",
     "output_type": "stream",
     "text": [
      "Execution time in seconds: 15.108816862106323\n"
     ]
    }
   ],
   "source": [
    "execution_time = (time.time() - start_time)\n",
    "print('Execution time in seconds: ' + str(execution_time))"
   ]
  },
  {
   "cell_type": "code",
   "execution_count": 18,
   "metadata": {},
   "outputs": [
    {
     "data": {
      "text/plain": [
       "Net(\n",
       "  (lin1): Linear(in_features=9, out_features=500, bias=True)\n",
       "  (act): Sigmoid()\n",
       "  (lin2): Linear(in_features=500, out_features=1, bias=True)\n",
       ")"
      ]
     },
     "execution_count": 18,
     "metadata": {},
     "output_type": "execute_result"
    }
   ],
   "source": [
    "model2 = Net()\n",
    "optimizer2= opt.Adam(model2.parameters(), lr=0.01)\n",
    "\n",
    "checkpoint = torch.load(PATH)\n",
    "model2.load_state_dict(checkpoint['model_state_dict'])\n",
    "optimizer2.load_state_dict(checkpoint['optimizer_state_dict'])\n",
    "i = checkpoint['epoch']\n",
    "loss = checkpoint['loss']\n",
    "\n",
    "#model.eval()\n",
    "# - or -\n",
    "model2.train()\n"
   ]
  },
  {
   "cell_type": "code",
   "execution_count": 19,
   "metadata": {},
   "outputs": [
    {
     "name": "stdout",
     "output_type": "stream",
     "text": [
      "0 0.00019559211796149611\n",
      "10 0.00018981263565365225\n",
      "20 0.00018429351621307433\n",
      "30 0.00017901969840750098\n",
      "40 0.0001739753788569942\n",
      "50 0.0001691478828433901\n",
      "60 0.00016452401177957654\n",
      "70 0.0001600925315869972\n",
      "80 0.00015584263019263744\n",
      "90 0.00015176431043073535\n",
      "100 0.00014784828817937523\n",
      "110 0.00014408606512006372\n",
      "120 0.0001404694194206968\n",
      "130 0.00013699087139684707\n",
      "140 0.00013364345068112016\n",
      "150 0.00013042052160017192\n",
      "160 0.00012731575407087803\n",
      "170 0.0001243236183654517\n",
      "180 0.00012143862113589421\n",
      "190 0.00011865521810250357\n",
      "200 0.00011596926196943969\n",
      "210 0.00011337576142977923\n",
      "220 0.00011087060556747019\n",
      "230 0.00010844998178072274\n",
      "240 0.00010610971366986632\n",
      "250 0.00010384648339822888\n",
      "260 0.00010165677667828277\n",
      "270 9.95375303318724e-05\n",
      "280 9.748568118084222e-05\n",
      "290 9.549826791044325e-05\n",
      "300 9.357249655295163e-05\n",
      "310 9.170607518171892e-05\n",
      "320 8.989631169242784e-05\n",
      "330 8.814097964204848e-05\n",
      "340 8.643791079521179e-05\n",
      "350 8.478487870888785e-05\n",
      "360 8.31799115985632e-05\n",
      "370 8.162133599398658e-05\n",
      "380 8.010690362425521e-05\n",
      "390 7.863530481699854e-05\n",
      "400 7.720473513472825e-05\n",
      "410 7.581360114272684e-05\n",
      "420 7.446038216585293e-05\n",
      "430 7.314389222301543e-05\n",
      "440 7.186234142864123e-05\n",
      "450 7.061498035909608e-05\n",
      "460 6.940016464795917e-05\n",
      "470 6.821698480052873e-05\n",
      "480 6.706391286570579e-05\n",
      "490 6.594041042262688e-05\n",
      "500 6.484514597104862e-05\n",
      "510 6.377710815286264e-05\n",
      "520 6.273548206081614e-05\n",
      "530 6.171935820020735e-05\n",
      "540 6.0727827076334506e-05\n",
      "550 5.9759993746411055e-05\n",
      "560 5.881528340978548e-05\n",
      "570 5.7892775657819584e-05\n",
      "580 5.699179382645525e-05\n",
      "590 5.611168671748601e-05\n",
      "600 5.525171218323521e-05\n",
      "610 5.4411219025496393e-05\n",
      "620 5.358974522096105e-05\n",
      "630 5.278651588014327e-05\n",
      "640 5.200108716962859e-05\n",
      "650 5.123288065078668e-05\n",
      "660 5.048139064456336e-05\n",
      "670 4.974612966179848e-05\n",
      "680 4.9026552005670965e-05\n",
      "690 4.832234117202461e-05\n",
      "700 4.763286415254697e-05\n",
      "710 4.6957709855632856e-05\n",
      "720 4.629665272659622e-05\n",
      "730 4.5649081584997475e-05\n",
      "740 4.5014836359769106e-05\n",
      "750 4.439328768057749e-05\n",
      "760 4.3784220906673e-05\n",
      "770 4.3187323171878234e-05\n",
      "780 4.260215428075753e-05\n",
      "790 4.2028623283840716e-05\n",
      "800 4.1466108086751774e-05\n",
      "810 4.091448863619007e-05\n",
      "820 4.037351391161792e-05\n",
      "830 3.984280920121819e-05\n",
      "840 3.932218533009291e-05\n",
      "850 3.8811293052276596e-05\n",
      "860 3.830986315733753e-05\n",
      "870 3.7817902921233326e-05\n",
      "880 3.73348593711853e-05\n",
      "890 3.6860714317299426e-05\n",
      "900 3.6395118513610214e-05\n",
      "910 3.593798101064749e-05\n",
      "920 3.548897439031862e-05\n",
      "930 3.504803680698387e-05\n",
      "940 3.461481537669897e-05\n",
      "950 3.418920823605731e-05\n",
      "960 3.377102984813973e-05\n",
      "970 3.336011286592111e-05\n",
      "980 3.295624992460944e-05\n",
      "990 3.255940828239545e-05\n"
     ]
    }
   ],
   "source": [
    "start_time = time.time()\n",
    "losses=[]\n",
    "pc=[]\n",
    "for i in range (epochs):\n",
    "  y_pred= model2(x)\n",
    "  loss = loss_funct(y_pred,t)\n",
    "  losses.append(loss.item())\n",
    "  optimizer2.zero_grad()\n",
    "  loss.backward()\n",
    "\n",
    "  optimizer2.step()\n",
    "  if i%10 ==0:\n",
    "    print(i,loss.item())\n",
    "    pc.append(pred_curv(x_test))\n",
    "\n",
    "    #torch.save(model.state_dict(), 'modelc.pth')\n",
    "    #torch.save(optimizer.state_dict(), 'optimizerc.pth')"
   ]
  },
  {
   "cell_type": "code",
   "execution_count": 20,
   "metadata": {},
   "outputs": [
    {
     "data": {
      "text/plain": [
       "[<matplotlib.lines.Line2D at 0x7fb3c62bd9f0>]"
      ]
     },
     "execution_count": 20,
     "metadata": {},
     "output_type": "execute_result"
    },
    {
     "data": {
      "image/png": "[encoded data removed]",
      "text/plain": [
       "<Figure size 640x480 with 1 Axes>"
      ]
     },
     "metadata": {},
     "output_type": "display_data"
    }
   ],
   "source": [
    "plt.plot(pc)"
   ]
  },
  {
   "cell_type": "markdown",
   "metadata": {
    "id": "nq3dcHU8o8I-"
   },
   "source": []
  }
 ],
 "metadata": {
  "accelerator": "GPU",
  "colab": {
   "gpuType": "T4",
   "provenance": []
  },
  "gpuClass": "standard",
  "kernelspec": {
   "display_name": "Python 3 (ipykernel)",
   "language": "python",
   "name": "python3"
  },
  "language_info": {
   "codemirror_mode": {
    "name": "ipython",
    "version": 3
   },
   "file_extension": ".py",
   "mimetype": "text/x-python",
   "name": "python",
   "nbconvert_exporter": "python",
   "pygments_lexer": "ipython3",
   "version": "3.10.9"
  }
 },
 "nbformat": 4,
 "nbformat_minor": 1
}
