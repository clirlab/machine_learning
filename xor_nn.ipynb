{
 "cells": [
  {
   "cell_type": "code",
   "execution_count": 27,
   "metadata": {},
   "outputs": [],
   "source": [
    "import numpy as np\n",
    "import matplotlib.pyplot as plt"
   ]
  },
  {
   "cell_type": "markdown",
   "metadata": {},
   "source": [
    "$x$ son los datos de entrada  \n",
    "$t$ son las etiquetas "
   ]
  },
  {
   "cell_type": "code",
   "execution_count": 51,
   "metadata": {},
   "outputs": [],
   "source": [
    "x=np.vstack(([0,0],[0,1],[1,0],[1,1]))\n",
    "t=np.array([0,1,1,0]).reshape(-1,1)"
   ]
  },
  {
   "cell_type": "markdown",
   "metadata": {},
   "source": [
    "La red está constituida de dos capas: una capa de salida y una capa oculta. Cada capa está definida por una matriz de pesos $w_i$ para $i=1,2$"
   ]
  },
  {
   "cell_type": "code",
   "execution_count": 16,
   "metadata": {},
   "outputs": [],
   "source": [
    "w1=np.random.rand(2,16)\n",
    "w2=np.random.rand(16,1)"
   ]
  },
  {
   "cell_type": "markdown",
   "metadata": {},
   "source": [
    "Para la \"función de activación\" $\\sigma(x)$ se elige una sigmoide"
   ]
  },
  {
   "cell_type": "markdown",
   "metadata": {},
   "source": [
    "$\\sigma(x)=\\frac{1}{1+e^{-x}}$  "
   ]
  },
  {
   "cell_type": "code",
   "execution_count": 18,
   "metadata": {},
   "outputs": [],
   "source": [
    "def sigmoid(x):\n",
    "    return (1/(1+np.exp(-x)))"
   ]
  },
  {
   "cell_type": "markdown",
   "metadata": {},
   "source": [
    "Por lo que"
   ]
  },
  {
   "cell_type": "markdown",
   "metadata": {},
   "source": [
    "$y_1=\\sigma(w_1x+b_1)$ la primera capa recibe $x$ y saca $y_1$  \n",
    "$y_s=\\sigma(w_2y_1+b_2)$ la segunda capa recibe $y_1$ y saca $y_s$"
   ]
  },
  {
   "cell_type": "markdown",
   "metadata": {},
   "source": [
    "En el caso simple donde $b_1,b_2$ son cero. Los valores $b_i$ son conocidos como \"bias\""
   ]
  },
  {
   "cell_type": "code",
   "execution_count": 56,
   "metadata": {},
   "outputs": [],
   "source": [
    "# y1=sigmoid(np.dot(x,w1))\n",
    "# ys=sigmoid(np.dot(y1,w2))"
   ]
  },
  {
   "cell_type": "markdown",
   "metadata": {},
   "source": [
    "La derivada de la función de activación sigmoidal es"
   ]
  },
  {
   "cell_type": "markdown",
   "metadata": {},
   "source": [
    "$\\frac{d\\sigma}{dx}=\\sigma(x)(1-\\sigma(x))$"
   ]
  },
  {
   "cell_type": "markdown",
   "metadata": {},
   "source": [
    "La función de costo $E(w_1,w_2)$ que la red minimiza está dada por"
   ]
  },
  {
   "cell_type": "markdown",
   "metadata": {},
   "source": [
    "$E(w_1,w_2)=\\sum_{i=1}^N(y_s-t)^2$ donde $y_s=\\sigma(w_2\\sigma(w_1x+b_1)+b_2)$  "
   ]
  },
  {
   "cell_type": "code",
   "execution_count": 21,
   "metadata": {},
   "outputs": [],
   "source": [
    "# E=1/4*np.sum((ys-t)**2)"
   ]
  },
  {
   "cell_type": "markdown",
   "metadata": {},
   "source": [
    "La solución de $\\min_{w_1,w_2} E(w_1,w_2)$ se obtiene con las condiciones de optimalidad $\\frac{dE}{dw_i}=0$ para $i=1,2$"
   ]
  },
  {
   "cell_type": "markdown",
   "metadata": {},
   "source": [
    "En este caso $\\frac{dE}{dw_2}$ está definida por la regla de la cadena\n",
    "$\\frac{dE}{dw_2}= \\frac{dE}{dy_s}\\frac{dy_s}{dw_2}$ "
   ]
  },
  {
   "cell_type": "markdown",
   "metadata": {},
   "source": [
    "donde $\\frac{dE}{dy_s} = 2(y_s-t)$,  \n",
    "  \n",
    "$\\frac{dy_s}{dw_2} = \\sigma(w_2y_1+b_2)(1-\\sigma(w_2y_1+b_1))y_1$ "
   ]
  },
  {
   "cell_type": "markdown",
   "metadata": {},
   "source": [
    "Por lo tanto $\\frac{dE}{dw_2} = 2(y_s-t)y_s(1-y_s)y_1$"
   ]
  },
  {
   "cell_type": "markdown",
   "metadata": {},
   "source": [
    "Para $\\frac{dE}{dw_1}$ por regla de la cadena tenemos que \n",
    "$\\frac{dE}{dw_1}= \\frac{dE}{dy_s}\\frac{dy_s}{dy_1} \\frac{dy_1}{dw_1}$ "
   ]
  },
  {
   "cell_type": "markdown",
   "metadata": {},
   "source": [
    "$\\frac{dE}{dy_s} = 2(y_s-t)$ ya la tenemos,"
   ]
  },
  {
   "cell_type": "markdown",
   "metadata": {},
   "source": [
    "$\\frac{dy_s}{dy_1} = \\sigma(w_2y_1+b_2)(1-\\sigma(w_2y_1+b_2))w_2$, "
   ]
  },
  {
   "cell_type": "markdown",
   "metadata": {},
   "source": [
    "$\\frac{dy_1}{dw_1} = \\sigma(w_1x+b_1)(1-\\sigma(w_1x+b_1))x$ por lo que"
   ]
  },
  {
   "cell_type": "markdown",
   "metadata": {},
   "source": [
    "$\\frac{dE}{dw_1} = 2(y_s-t)y_s(1-y_s)w_2y_1(1-y_1)$"
   ]
  },
  {
   "cell_type": "code",
   "execution_count": 20,
   "metadata": {},
   "outputs": [],
   "source": [
    "# dEdw2=2*(np.dot(y1.T,(ys-t)*ys*(1-ys)))\n",
    "# dEdw1=2*np.dot(x.T,np.dot((ys-t)*ys*(1-ys),w2.T)*y1*(1-y1))"
   ]
  },
  {
   "cell_type": "markdown",
   "metadata": {},
   "source": [
    "Ya que se tiene el gradiente de $E$, i.e. $\\nabla E = (\\frac{dE}{dw_1}, \\frac{dE}{dw_2})$, podemos usar el método de descenso de gradiente para encontrar el mínimo. \n",
    "\n",
    "Esto es, construimos una sucesión de valores $w^k$ para $k=1,2,3, \\ldots$ usando la regla  \n",
    "\n",
    "$w^{k+1}=w^k-\\alpha \\nabla E(w^k)$ donde $w=(w_1,w_2)$"
   ]
  },
  {
   "cell_type": "markdown",
   "metadata": {},
   "source": [
    "Visto de otra forma  \n",
    "\n",
    "$w_1^{k+1}=w_1^{k} - \\alpha \\frac{dE(w^k)}{dw_1}$  \n",
    "$w_2^{k+1}=w_2^{k} - \\alpha \\frac{dE(w^k)}{dw_2}$  \n",
    "\n",
    "para $k=1,2,3, \\ldots$ "
   ]
  },
  {
   "cell_type": "markdown",
   "metadata": {},
   "source": [
    "En optimización, $\\alpha$ es conocido como el \"paso\" en la dirección de búsqueda pero en el contexto de redes neuronales se le conoce como el \"learning rate\" o tasa de aprendizaje.  \n",
    "Por otro lado, al método para construir el gradiente usando la regla de la cadena se conoce como \"backpropagation\".  \n",
    "Cada iteración $k$ es conocida como épocas"
   ]
  },
  {
   "cell_type": "markdown",
   "metadata": {},
   "source": [
    "### El algoritmo implementado en Python para la función XOR es"
   ]
  },
  {
   "cell_type": "code",
   "execution_count": 30,
   "metadata": {},
   "outputs": [],
   "source": [
    "def sigmoid(x):\n",
    "    return (1/(1+np.exp(-x)))\n",
    "\n",
    "x=np.vstack(([0,0],[0,1],[1,0],[1,1]))\n",
    "t=np.array([0,1,1,0]).reshape(-1,1)\n",
    "\n",
    "w1=np.random.rand(2,16)\n",
    "w2=np.random.rand(16,1)\n",
    "\n",
    "alpha=1\n",
    "\n",
    "loss=[]\n",
    "for i in range(1000):\n",
    "    y1=sigmoid(np.dot(x,w1))\n",
    "    ys=sigmoid(np.dot(y1,w2))\n",
    "    E=1/4*np.sum((ys-t)**2)\n",
    "    dEdw2=2*(np.dot(y1.T,(ys-t)*ys*(1-ys)))\n",
    "    dEdw1=2*np.dot(x.T,np.dot((ys-t)*ys*(1-ys),w2.T)*y1*(1-y1))\n",
    "    w2=w2-alpha*dEdw2\n",
    "    w1=w1-alpha*dEdw1\n",
    "    loss.append(E)"
   ]
  },
  {
   "cell_type": "code",
   "execution_count": 34,
   "metadata": {},
   "outputs": [
    {
     "data": {
      "image/png": "[encoded data removed]",
      "text/plain": [
       "<Figure size 432x288 with 1 Axes>"
      ]
     },
     "metadata": {
      "needs_background": "light"
     },
     "output_type": "display_data"
    }
   ],
   "source": [
    "plt.plot(loss)\n",
    "plt.title('gráfica del valor de la función de perdida')\n",
    "plt.xlabel('épocas')\n",
    "plt.ylabel('loss')\n",
    "plt.grid()"
   ]
  },
  {
   "cell_type": "markdown",
   "metadata": {},
   "source": [
    "La función de predicción es entonces"
   ]
  },
  {
   "cell_type": "code",
   "execution_count": 73,
   "metadata": {},
   "outputs": [],
   "source": [
    " def pred(x,w1,w2):\n",
    "    y1=sigmoid(np.dot(x,w1))\n",
    "    ys=sigmoid(np.dot(y1,w2))\n",
    "    if ys>=0.5:\n",
    "        return 1\n",
    "    else:\n",
    "        return 0"
   ]
  },
  {
   "cell_type": "markdown",
   "metadata": {},
   "source": [
    "Ejemplo, definimos los 4 valores posbles de la función XOR"
   ]
  },
  {
   "cell_type": "code",
   "execution_count": 83,
   "metadata": {},
   "outputs": [],
   "source": [
    "x0=np.array([0,0])\n",
    "x1=np.array([0,1])\n",
    "x2=np.array([1,0])\n",
    "x3=np.array([1,1])"
   ]
  },
  {
   "cell_type": "markdown",
   "metadata": {},
   "source": [
    "y \"predecimos\" su valor"
   ]
  },
  {
   "cell_type": "code",
   "execution_count": 85,
   "metadata": {},
   "outputs": [
    {
     "name": "stdout",
     "output_type": "stream",
     "text": [
      "y = 0\n",
      "y = 1\n",
      "y = 1\n",
      "y = 0\n"
     ]
    }
   ],
   "source": [
    "print('y = %i' % pred(x0,w1,w2))\n",
    "print('y = %i' % pred(x1,w1,w2))\n",
    "print('y = %i' % pred(x2,w1,w2))\n",
    "print('y = %i' % pred(x3,w1,w2))"
   ]
  },
  {
   "cell_type": "code",
   "execution_count": null,
   "metadata": {},
   "outputs": [],
   "source": []
  }
 ],
 "metadata": {
  "kernelspec": {
   "display_name": "Python 3",
   "language": "python",
   "name": "python3"
  },
  "language_info": {
   "codemirror_mode": {
    "name": "ipython",
    "version": 3
   },
   "file_extension": ".py",
   "mimetype": "text/x-python",
   "name": "python",
   "nbconvert_exporter": "python",
   "pygments_lexer": "ipython3",
   "version": "3.7.12"
  }
 },
 "nbformat": 4,
 "nbformat_minor": 4
}
