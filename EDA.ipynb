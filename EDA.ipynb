{
  "nbformat": 4,
  "nbformat_minor": 0,
  "metadata": {
    "colab": {
      "provenance": []
    },
    "kernelspec": {
      "name": "python3",
      "display_name": "Python 3"
    },
    "language_info": {
      "name": "python"
    }
  },
  "cells": [
    {
      "cell_type": "code",
      "execution_count": 1,
      "metadata": {
        "id": "TuCV80J0ETp5"
      },
      "outputs": [],
      "source": [
        "import pandas as pd\n",
        "import numpy as np"
      ]
    },
    {
      "cell_type": "code",
      "source": [
        "data = pd.read_excel(\"felicidad_mal.xls\") #felidad_mal.xls\n",
        "#print(data.head()) # que vemos de extraño"
      ],
      "metadata": {
        "id": "bahVmS50EfOl"
      },
      "execution_count": 2,
      "outputs": []
    },
    {
      "cell_type": "code",
      "source": [
        "data = data.drop(columns=[\"DIA\"]) #quitamos la columna de dia\n",
        "#print(data.head())"
      ],
      "metadata": {
        "id": "5DYJTvPbEh8q"
      },
      "execution_count": 3,
      "outputs": []
    },
    {
      "cell_type": "code",
      "source": [
        "columnas= data.columns #se extraen las columnas\n",
        "num_cols = data._get_numeric_data().columns #se extraen los valores numericos de las columnas\n",
        "print(list(set(columnas) - set(num_cols))) # se restan para ver si queda algun no numerico"
      ],
      "metadata": {
        "colab": {
          "base_uri": "https://localhost:8080/"
        },
        "id": "dy5jCzyIEkKH",
        "outputId": "c4081dba-1767-4d0c-ab36-478fdbd14071"
      },
      "execution_count": 4,
      "outputs": [
        {
          "output_type": "stream",
          "name": "stdout",
          "text": [
            "['X6']\n"
          ]
        }
      ]
    },
    {
      "cell_type": "code",
      "source": [
        "#en el caso infeliz, la comuna x6 saldrá como no numeroca, podemos cambiar que si sea 1 y no sea 2\n",
        "data['X6'] = np.where(data.X6 =='si' , 1, 2)\n",
        "print(data.head())"
      ],
      "metadata": {
        "colab": {
          "base_uri": "https://localhost:8080/"
        },
        "id": "BjgJM_afEmvx",
        "outputId": "7af96b09-71f8-4d29-83fe-3843e7c29721"
      },
      "execution_count": 5,
      "outputs": [
        {
          "output_type": "stream",
          "name": "stdout",
          "text": [
            "    X1   X2  X3   X4   X5  X6  X7    D\n",
            "0  3.0  3.0   3  4.0  2.0   2   1  0.0\n",
            "1  3.0  2.0   3  5.0  4.0   2   4  0.0\n",
            "2  5.0  3.0   3  3.0  3.0   2   7  1.0\n",
            "3  5.0  4.0   3  3.0  3.0   2  12  0.0\n",
            "4  5.0  4.0   3  3.0  3.0   1   1  0.0\n"
          ]
        }
      ]
    },
    {
      "cell_type": "code",
      "source": [
        "print(data.isnull().sum()) #verificar si hay datos vacios\n"
      ],
      "metadata": {
        "colab": {
          "base_uri": "https://localhost:8080/"
        },
        "id": "FQr40QADEpIi",
        "outputId": "0e92c14c-0a19-4bd5-d2cd-280209b2acb7"
      },
      "execution_count": 6,
      "outputs": [
        {
          "output_type": "stream",
          "name": "stdout",
          "text": [
            "X1    1\n",
            "X2    2\n",
            "X3    0\n",
            "X4    2\n",
            "X5    1\n",
            "X6    0\n",
            "X7    0\n",
            "D     2\n",
            "dtype: int64\n"
          ]
        }
      ]
    },
    {
      "cell_type": "code",
      "source": [
        "outliers = []\n",
        "for i in range(data.shape[1]):\n",
        "    min_t = data[data.columns[i]].mean() \\\n",
        "            - (3 * data[data.columns[i]].std())\n",
        "    max_t = data[data.columns[i]].mean() \\\n",
        "            + (3 * data[data.columns[i]].std())\n",
        "    count = 0\n",
        "    for j in data[data.columns[i]]:\n",
        "        if j < min_t or j > max_t:\n",
        "            count += 1\n",
        "    percentage = count / data.shape[0]\n",
        "    outliers.append(percentage*100)\n",
        "print(outliers)"
      ],
      "metadata": {
        "colab": {
          "base_uri": "https://localhost:8080/"
        },
        "id": "k4igYFJnEq4L",
        "outputId": "a42c6647-7ad7-4f3c-8bb2-5cb61d708b00"
      },
      "execution_count": 7,
      "outputs": [
        {
          "output_type": "stream",
          "name": "stdout",
          "text": [
            "[1.3986013986013985, 0.0, 0.6993006993006993, 0.6993006993006993, 0.6993006993006993, 0.0, 0.0, 0.0]\n"
          ]
        }
      ]
    },
    {
      "cell_type": "code",
      "source": [
        "#son nuestros datos cercanos entre si ???\n",
        "medias = {}\n",
        "for i in range(data.shape[1]):\n",
        "    medias[data.columns[i]] = data[data.columns[i]].mean() \n",
        "print(medias)"
      ],
      "metadata": {
        "colab": {
          "base_uri": "https://localhost:8080/"
        },
        "id": "p8yAexykEuSk",
        "outputId": "536ecc0a-4fcf-4172-efe7-c8c79305b006"
      },
      "execution_count": 8,
      "outputs": [
        {
          "output_type": "stream",
          "name": "stdout",
          "text": [
            "{'X1': 4.359154929577465, 'X2': 2.7943262411347516, 'X3': 3.3566433566433567, 'X4': 3.6666666666666665, 'X5': 3.492957746478873, 'X6': 1.5804195804195804, 'X7': 8.167832167832168, 'D': 0.5390070921985816}\n"
          ]
        }
      ]
    },
    {
      "cell_type": "code",
      "source": [
        "X = data.iloc[:, :7]\n",
        "Y = data.iloc[:, 7:]\n",
        "\n",
        "\n",
        "#normalización de los datos\n",
        "X = (X - X.min()) / (X.max() - X.min())\n",
        "print(X)"
      ],
      "metadata": {
        "colab": {
          "base_uri": "https://localhost:8080/"
        },
        "id": "AmsPvJ-SEyHG",
        "outputId": "e9f485de-9a9a-4197-f04a-a7333a7da519"
      },
      "execution_count": 9,
      "outputs": [
        {
          "output_type": "stream",
          "name": "stdout",
          "text": [
            "           X1        X2        X3   X4        X5   X6        X7\n",
            "0    0.181818  0.428571  0.142857  0.8  0.666667  1.0  0.000000\n",
            "1    0.181818  0.285714  0.142857  1.0  0.888889  1.0  0.214286\n",
            "2    0.363636  0.428571  0.142857  0.6  0.777778  1.0  0.428571\n",
            "3    0.363636  0.571429  0.142857  0.6  0.777778  1.0  0.785714\n",
            "4    0.363636  0.571429  0.142857  0.6  0.777778  0.0  0.000000\n",
            "..        ...       ...       ...  ...       ...  ...       ...\n",
            "138  0.363636  0.428571  0.142857  0.2       NaN  1.0  0.214286\n",
            "139  0.363636  0.285714  0.142857  0.8  0.666667  0.0  1.000000\n",
            "140  0.363636  0.428571  1.000000  0.8  0.888889  1.0  0.500000\n",
            "141  0.272727  0.428571  0.142857  0.8  0.888889  0.0  0.428571\n",
            "142  0.363636  1.000000  0.095238  1.0  1.000000  0.0  0.500000\n",
            "\n",
            "[143 rows x 7 columns]\n"
          ]
        }
      ]
    },
    {
      "cell_type": "code",
      "source": [
        "#&&&&&&& SPLIT&&&&&&&&&&&&\n",
        "\n",
        "X.shape\n",
        "train_end = int(len(X) * 0.6)\n",
        "dev_end = int(len(X) * 0.8)\n",
        "\n",
        "X_shuffle = X.sample(frac=1, random_state=0)\n",
        "Y_shuffle = Y.sample(frac=1, random_state=0)\n",
        "\n",
        "x_train = X_shuffle.iloc[1:train_end,:]\n",
        "y_train = Y_shuffle.iloc[1:train_end]\n",
        "x_dev = X_shuffle.iloc[train_end:dev_end,:]\n",
        "y_dev = Y_shuffle.iloc[train_end:dev_end]\n",
        "x_test = X_shuffle.iloc[dev_end:,:]\n",
        "y_test = Y_shuffle.iloc[dev_end:]\n",
        "\n",
        "print(x_train.shape, y_train.shape)\n",
        "print(x_dev.shape, y_dev.shape)\n",
        "print(x_test.shape, y_test.shape)"
      ],
      "metadata": {
        "colab": {
          "base_uri": "https://localhost:8080/"
        },
        "id": "F_J3gtAVE4Do",
        "outputId": "0796f2e7-046c-4995-b989-b99098a5cf04"
      },
      "execution_count": 10,
      "outputs": [
        {
          "output_type": "stream",
          "name": "stdout",
          "text": [
            "(84, 7) (84, 1)\n",
            "(29, 7) (29, 1)\n",
            "(29, 7) (29, 1)\n"
          ]
        }
      ]
    },
    {
      "cell_type": "code",
      "source": [],
      "metadata": {
        "id": "xhcpukTVE4uu"
      },
      "execution_count": 10,
      "outputs": []
    }
  ]
}