{
  "nbformat": 4,
  "nbformat_minor": 0,
  "metadata": {
    "colab": {
      "provenance": []
    },
    "kernelspec": {
      "name": "python3",
      "display_name": "Python 3"
    },
    "language_info": {
      "name": "python"
    },
    "gpuClass": "standard"
  },
  "cells": [
    {
      "cell_type": "code",
      "execution_count": 236,
      "metadata": {
        "id": "q9fHplATE08q"
      },
      "outputs": [],
      "source": [
        "import random as rd\n",
        "import matplotlib.pyplot as plt\n",
        "import numpy as np"
      ]
    },
    {
      "cell_type": "code",
      "source": [
        "rd.seed(0)\n",
        "np.random.seed(0)  #no habia inicializado la semilla del random NUMPY\n",
        "t=np.arange(0.0,5.0,0.1)\n",
        "noise = np.random.uniform(0,15, t.size)\n",
        "s=t**3+t**2+noise\n",
        "#s=5*np.sin(t)+noise # pueden probar otra función, por ejemplo este cachito de senoidal pongan una desviacion estandar por ejemplo 5 en la vairable NOISE\n"
      ],
      "metadata": {
        "id": "HkXIdQuORpYX"
      },
      "execution_count": 237,
      "outputs": []
    },
    {
      "cell_type": "code",
      "source": [
        "maxi=np.amax(t)\n",
        "t=t/maxi            #normalizacion de los datos... agregado para poder usar polinomios de mayor grado sin que se desborden las variables\n",
        "                    #era algo que iba a mostrarles una vez que funcionara..."
      ],
      "metadata": {
        "id": "sj6jTE2qAgcN"
      },
      "execution_count": 238,
      "outputs": []
    },
    {
      "cell_type": "code",
      "source": [
        "plt.plot(t,s,'o')\n",
        "plt.show()"
      ],
      "metadata": {
        "colab": {
          "base_uri": "https://localhost:8080/",
          "height": 265
        },
        "id": "g9cKh20uSpaI",
        "outputId": "13862538-66b8-45d3-af6d-67a8420367af"
      },
      "execution_count": 239,
      "outputs": [
        {
          "output_type": "display_data",
          "data": {
            "text/plain": [
              "<Figure size 432x288 with 1 Axes>"
            ],
            "image/png": "[encoded data removed]"
          },
          "metadata": {
            "needs_background": "light"
          }
        }
      ]
    },
    {
      "cell_type": "code",
      "source": [
        "alpha=0.1\n",
        "epocas=100\n",
        "grado= 9\n",
        "w=np.zeros(grado)\n",
        "grad=np.zeros(grado)\n",
        "e=np.zeros(epocas)\n"
      ],
      "metadata": {
        "id": "esXV38beTd2L"
      },
      "execution_count": 240,
      "outputs": []
    },
    {
      "cell_type": "code",
      "source": [
        "for i in range (grado): #inicializar los pesos\n",
        "  w[i]=rd.random()\n"
      ],
      "metadata": {
        "id": "Kdo1o-C-Uazh"
      },
      "execution_count": 241,
      "outputs": []
    },
    {
      "cell_type": "code",
      "source": [
        "#ahora si empezamos\n",
        "for i in range(epocas):\n",
        "  error=0\n",
        "  for j in range(t.size):\n",
        "    hipo =0 \n",
        "    for k in range(grado):\n",
        "      hipo += w[k]*(t[j]**k)\n",
        "    error = error+((hipo-s[j])**2)\n",
        "\n",
        "    for k  in range(grado):\n",
        "      grad[k]=grad[k]+(hipo-s[j])*(t[j]**k)\n",
        "     #actualizar pesos, esta es la parte de \"aprendizaje\"\n",
        "\n",
        "    for k in range(grado):\n",
        "      w[k]=w[k]-alpha*(grad[k]/t.size) \n",
        "    grad=np.zeros(grado)\n",
        "    e[i]=error/t.size"
      ],
      "metadata": {
        "id": "ui-Iy6wwU_Fb"
      },
      "execution_count": 242,
      "outputs": []
    },
    {
      "cell_type": "code",
      "source": [
        " "
      ],
      "metadata": {
        "id": "_7937hNPX8R0"
      },
      "execution_count": 242,
      "outputs": []
    },
    {
      "cell_type": "code",
      "source": [
        "#evaluar mi función con todos los ejemplos \n",
        "\n",
        "val=np.zeros(t.size)\n",
        "for i in range(t.size):\n",
        "  for k in range(grado):\n",
        "    val[i]= val[i] + w[k]*t[i]**k  #acá estuvo el error...no multipliqué por los pesos al momento de evaluar"
      ],
      "metadata": {
        "id": "cbotOcZBYJeO"
      },
      "execution_count": 243,
      "outputs": []
    },
    {
      "cell_type": "code",
      "source": [
        "fig, axs = plt.subplots(2)\n",
        "fig.suptitle(\"Gráficas\")\n",
        "\n",
        "axs[0].plot(t,s, 'o')\n",
        "axs[0].plot(t,val)\n",
        "axs[1].plot(e)\n",
        "plt.show()"
      ],
      "metadata": {
        "colab": {
          "base_uri": "https://localhost:8080/",
          "height": 294
        },
        "id": "FVyuS8EKZRyj",
        "outputId": "ba3a7cae-0176-4579-877b-cbdfd82538ba"
      },
      "execution_count": 244,
      "outputs": [
        {
          "output_type": "display_data",
          "data": {
            "text/plain": [
              "<Figure size 432x288 with 2 Axes>"
            ],
            "image/png": "[encoded data removed]"
          },
          "metadata": {
            "needs_background": "light"
          }
        }
      ]
    }
  ]
}