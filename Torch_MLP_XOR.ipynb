{
 "cells": [
  {
   "cell_type": "code",
   "execution_count": 1,
   "metadata": {
    "id": "o3dgnBpUezq5"
   },
   "outputs": [],
   "source": [
    "import torch\n",
    "import torch.nn as nn\n",
    "import torch.optim as optim\n",
    "import matplotlib.pyplot as plt"
   ]
  },
  {
   "cell_type": "code",
   "execution_count": 2,
   "metadata": {
    "id": "SpxettSKhKqf"
   },
   "outputs": [],
   "source": [
    "x = torch.tensor(([[0,0],[0,1],[1,0],[1,1]]),dtype=torch.float32)\n",
    "y = torch.tensor(([[0,1,1,0]]), dtype=torch.float32 )"
   ]
  },
  {
   "cell_type": "code",
   "execution_count": 3,
   "metadata": {
    "id": "O4qUWmnze_Zv"
   },
   "outputs": [],
   "source": [
    "M=4\n",
    "input_units = 2\n",
    "output_units = 1\n",
    "number_of_inputs=4\n",
    "\n",
    "model1 = nn.Sequential(\n",
    "    nn.Linear(input_units, M),\n",
    "    nn.ReLU(),\n",
    "    nn.Linear(M,output_units )\n",
    ")"
   ]
  },
  {
   "cell_type": "code",
   "execution_count": 4,
   "metadata": {
    "id": "BD93I9DkfNBg"
   },
   "outputs": [],
   "source": [
    "loss_funct = nn.MSELoss()\n",
    "optimizer = torch.optim.SGD(model1.parameters(), lr=0.01)"
   ]
  },
  {
   "cell_type": "code",
   "execution_count": 5,
   "metadata": {
    "colab": {
     "base_uri": "https://localhost:8080/",
     "height": 479
    },
    "id": "FhMGit3VfNOW",
    "outputId": "3aa7b98d-87c3-43be-bbce-b8542fc2d21c"
   },
   "outputs": [
    {
     "name": "stdout",
     "output_type": "stream",
     "text": [
      "0 0.5141059756278992\n",
      "500 0.17136967182159424\n",
      "1000 0.16654524207115173\n",
      "1500 0.16257014870643616\n",
      "2000 0.13913655281066895\n",
      "2500 0.07460964471101761\n",
      "3000 0.02647552639245987\n",
      "3500 0.007183614186942577\n",
      "4000 0.0016448432579636574\n",
      "4500 0.0003443158639129251\n"
     ]
    },
    {
     "data": {
      "image/png": "[encoded data removed]",
      "text/plain": [
       "<Figure size 432x288 with 1 Axes>"
      ]
     },
     "metadata": {
      "needs_background": "light"
     },
     "output_type": "display_data"
    }
   ],
   "source": [
    "EPOCHS=5000\n",
    "losses = []\n",
    "acc=[]\n",
    "for i in range(EPOCHS):\n",
    "  y_pred = model1(x)\n",
    "  acc.append((torch.sum(torch.round(y_pred)==y)/number_of_inputs).item())\n",
    "  loss = loss_funct(y_pred, y.T)\n",
    "  losses.append(loss.item())\n",
    "  optimizer.zero_grad()\n",
    "  loss.backward()\n",
    "  optimizer.step()\n",
    "  if i%(EPOCHS/10) == 0:\n",
    "    print(i, loss.item())\n",
    "\n",
    "plt.plot(range(0,EPOCHS), losses)\n",
    "plt.title('modelo 1')\n",
    "plt.grid()\n",
    "plt.xlabel('epocas')\n",
    "plt.ylabel('loss')\n",
    "plt.show()"
   ]
  },
  {
   "cell_type": "code",
   "execution_count": 6,
   "metadata": {
    "colab": {
     "base_uri": "https://localhost:8080/",
     "height": 295
    },
    "id": "al_IMZxNMfcV",
    "outputId": "e667f25e-2ae0-47cb-8166-823857d91760"
   },
   "outputs": [
    {
     "data": {
      "image/png": "[encoded data removed]",
      "text/plain": [
       "<Figure size 432x288 with 1 Axes>"
      ]
     },
     "metadata": {
      "needs_background": "light"
     },
     "output_type": "display_data"
    }
   ],
   "source": [
    "plt.plot(range(0,EPOCHS), acc)\n",
    "plt.title('learning curve')\n",
    "plt.grid()\n",
    "plt.xlabel('epocas')\n",
    "plt.ylabel('accuracy')\n",
    "plt.show()"
   ]
  },
  {
   "cell_type": "code",
   "execution_count": 7,
   "metadata": {
    "colab": {
     "base_uri": "https://localhost:8080/"
    },
    "id": "9Mt7F7qjHq9b",
    "outputId": "71a51b36-7f9d-49f2-9ff3-67146e6921f7"
   },
   "outputs": [
    {
     "data": {
      "text/plain": [
       "tensor([[0.0076],\n",
       "        [0.9864],\n",
       "        [0.9966],\n",
       "        [0.0049]], grad_fn=<AddmmBackward>)"
      ]
     },
     "execution_count": 7,
     "metadata": {},
     "output_type": "execute_result"
    }
   ],
   "source": [
    "y_pred"
   ]
  },
  {
   "cell_type": "code",
   "execution_count": null,
   "metadata": {},
   "outputs": [],
   "source": []
  }
 ],
 "metadata": {
  "colab": {
   "provenance": []
  },
  "kernelspec": {
   "display_name": "Python 3 (ipykernel)",
   "language": "python",
   "name": "python3"
  },
  "language_info": {
   "codemirror_mode": {
    "name": "ipython",
    "version": 3
   },
   "file_extension": ".py",
   "mimetype": "text/x-python",
   "name": "python",
   "nbconvert_exporter": "python",
   "pygments_lexer": "ipython3",
   "version": "3.9.1"
  }
 },
 "nbformat": 4,
 "nbformat_minor": 1
}
